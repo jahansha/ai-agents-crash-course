{
 "cells": [
  {
   "cell_type": "markdown",
   "id": "75c809c1",
   "metadata": {},
   "source": [
    "# Tool Calling"
   ]
  },
  {
   "cell_type": "code",
   "execution_count": 2,
   "id": "3b442449",
   "metadata": {},
   "outputs": [
    {
     "data": {
      "text/plain": [
       "True"
      ]
     },
     "execution_count": 2,
     "metadata": {},
     "output_type": "execute_result"
    }
   ],
   "source": [
    "import dotenv\n",
    "from agents import Agent, ModelSettings, Runner, function_tool, trace\n",
    "\n",
    "dotenv.load_dotenv()"
   ]
  },
  {
   "cell_type": "markdown",
   "id": "69af3322",
   "metadata": {},
   "source": [
    "Create a static calorie table that we can use as a tool:"
   ]
  },
  {
   "cell_type": "code",
   "execution_count": 22,
   "id": "fe2a2850",
   "metadata": {},
   "outputs": [],
   "source": [
    "@function_tool\n",
    "def get_food_calories(food_item: str) -> str:\n",
    "    \"\"\"\n",
    "    Get calorie information for common foods to help with nutrition tracking.\n",
    "\n",
    "    Args:\n",
    "        food_item: Name of the food (e.g., \"apple\", \"banana\")\n",
    "\n",
    "    Returns:\n",
    "        Calorie information per standard serving\n",
    "    \"\"\"\n",
    "    # Simple calorie database - in real world, you'd use USDA API\n",
    "    calorie_data = {\n",
    "        \"apple\": \"80 calories per medium apple (182g)\",\n",
    "        \"banana\": \"105 calories per medium banana (118g)\",\n",
    "        \"broccoli\": \"25 calories per 1 cup chopped (91g)\",\n",
    "        \"almonds\": \"164 calories per 1oz (28g) or about 23 nuts\",\n",
    "    }\n",
    "\n",
    "    food_key = food_item.lower()\n",
    "    print(food_item)\n",
    "    if food_key in calorie_data:\n",
    "        return f\"{food_item.title()}: {calorie_data[food_key]}\"\n",
    "    else:\n",
    "        return f\"I don't have calorie data for {food_item} in my database. Try common foods like apple, chicken breast, or rice.\""
   ]
  },
  {
   "cell_type": "markdown",
   "id": "a7f68e79",
   "metadata": {},
   "source": [
    "Let's test this out: \n",
    "\n",
    "_The following cell only works before you add the `@function_tool` annotation to `get_food_calories` function_"
   ]
  },
  {
   "cell_type": "code",
   "execution_count": 23,
   "id": "7f9484c8",
   "metadata": {},
   "outputs": [
    {
     "ename": "TypeError",
     "evalue": "'FunctionTool' object is not callable",
     "output_type": "error",
     "traceback": [
      "\u001b[31m---------------------------------------------------------------------------\u001b[39m",
      "\u001b[31mTypeError\u001b[39m                                 Traceback (most recent call last)",
      "\u001b[36mCell\u001b[39m\u001b[36m \u001b[39m\u001b[32mIn[23]\u001b[39m\u001b[32m, line 1\u001b[39m\n\u001b[32m----> \u001b[39m\u001b[32m1\u001b[39m \u001b[43mget_food_calories\u001b[49m\u001b[43m(\u001b[49m\u001b[33;43m'\u001b[39;49m\u001b[33;43mbanana\u001b[39;49m\u001b[33;43m'\u001b[39;49m\u001b[43m)\u001b[49m\n",
      "\u001b[31mTypeError\u001b[39m: 'FunctionTool' object is not callable"
     ]
    }
   ],
   "source": [
    "get_food_calories('banana')"
   ]
  },
  {
   "cell_type": "code",
   "execution_count": 24,
   "id": "1fe172e2",
   "metadata": {},
   "outputs": [],
   "source": [
    "calorie_agent = Agent(\n",
    "    name=\"Nutrition Assistant\",\n",
    "    instructions=\"\"\"\n",
    "    You are a helpful nutrition assistant giving out calorie information.\n",
    "    You give concise answers.\n",
    "    \"\"\",\n",
    "    tools=[get_food_calories])"
   ]
  },
  {
   "cell_type": "code",
   "execution_count": 25,
   "id": "1705b2fc",
   "metadata": {},
   "outputs": [
    {
     "name": "stdout",
     "output_type": "stream",
     "text": [
      "banana\n",
      "apple\n",
      "Total: 185 calories (banana ~105 cal + apple ~80 cal for medium sizes).\n"
     ]
    }
   ],
   "source": [
    "with trace(\"Nutrition Assistant with tools\"):\n",
    "    result = await Runner.run(\n",
    "        calorie_agent, \"How many calories are in total in a banana and an apple?\"\n",
    "    )\n",
    "    print(result.final_output)"
   ]
  },
  {
   "cell_type": "markdown",
   "id": "00283275",
   "metadata": {},
   "source": [
    "Enforce tools use:"
   ]
  },
  {
   "cell_type": "code",
   "execution_count": 9,
   "id": "26940407",
   "metadata": {},
   "outputs": [
    {
     "ename": "AttributeError",
     "evalue": "'function' object has no attribute 'name'",
     "output_type": "error",
     "traceback": [
      "\u001b[31m---------------------------------------------------------------------------\u001b[39m",
      "\u001b[31mAttributeError\u001b[39m                            Traceback (most recent call last)",
      "\u001b[36mCell\u001b[39m\u001b[36m \u001b[39m\u001b[32mIn[9]\u001b[39m\u001b[32m, line 12\u001b[39m\n\u001b[32m      1\u001b[39m calorie_agent = Agent(\n\u001b[32m      2\u001b[39m     name=\u001b[33m\"\u001b[39m\u001b[33mNutrition Assistant\u001b[39m\u001b[33m\"\u001b[39m,\n\u001b[32m      3\u001b[39m     instructions=\u001b[33m\"\"\"\u001b[39m\n\u001b[32m   (...)\u001b[39m\u001b[32m      8\u001b[39m     model_settings=ModelSettings(tool_choice=\u001b[33m\"\u001b[39m\u001b[33mget_food_calories\u001b[39m\u001b[33m\"\u001b[39m),\n\u001b[32m      9\u001b[39m )\n\u001b[32m     11\u001b[39m \u001b[38;5;28;01mwith\u001b[39;00m trace(\u001b[33m\"\u001b[39m\u001b[33mNutrition Assistant with tools enforced\u001b[39m\u001b[33m\"\u001b[39m):\n\u001b[32m---> \u001b[39m\u001b[32m12\u001b[39m     result = \u001b[38;5;28;01mawait\u001b[39;00m Runner.run(\n\u001b[32m     13\u001b[39m         calorie_agent, \u001b[33m\"\u001b[39m\u001b[33mHow many calories are in total in a banana and an apple?\u001b[39m\u001b[33m\"\u001b[39m\n\u001b[32m     14\u001b[39m     )\n\u001b[32m     15\u001b[39m     \u001b[38;5;28mprint\u001b[39m(result.final_output)\n",
      "\u001b[36mFile \u001b[39m\u001b[32m~/.local/lib/python3.13/site-packages/agents/run.py:274\u001b[39m, in \u001b[36mRunner.run\u001b[39m\u001b[34m(cls, starting_agent, input, context, max_turns, hooks, run_config, previous_response_id, conversation_id, session)\u001b[39m\n\u001b[32m    240\u001b[39m \u001b[38;5;250m\u001b[39m\u001b[33;03m\"\"\"Run a workflow starting at the given agent. The agent will run in a loop until a final\u001b[39;00m\n\u001b[32m    241\u001b[39m \u001b[33;03moutput is generated. The loop runs like so:\u001b[39;00m\n\u001b[32m    242\u001b[39m \u001b[33;03m1. The agent is invoked with the given input.\u001b[39;00m\n\u001b[32m   (...)\u001b[39m\u001b[32m    271\u001b[39m \u001b[33;03m    agent. Agents may perform handoffs, so we don't know the specific type of the output.\u001b[39;00m\n\u001b[32m    272\u001b[39m \u001b[33;03m\"\"\"\u001b[39;00m\n\u001b[32m    273\u001b[39m runner = DEFAULT_AGENT_RUNNER\n\u001b[32m--> \u001b[39m\u001b[32m274\u001b[39m \u001b[38;5;28;01mreturn\u001b[39;00m \u001b[38;5;28;01mawait\u001b[39;00m runner.run(\n\u001b[32m    275\u001b[39m     starting_agent,\n\u001b[32m    276\u001b[39m     \u001b[38;5;28minput\u001b[39m,\n\u001b[32m    277\u001b[39m     context=context,\n\u001b[32m    278\u001b[39m     max_turns=max_turns,\n\u001b[32m    279\u001b[39m     hooks=hooks,\n\u001b[32m    280\u001b[39m     run_config=run_config,\n\u001b[32m    281\u001b[39m     previous_response_id=previous_response_id,\n\u001b[32m    282\u001b[39m     conversation_id=conversation_id,\n\u001b[32m    283\u001b[39m     session=session,\n\u001b[32m    284\u001b[39m )\n",
      "\u001b[36mFile \u001b[39m\u001b[32m~/.local/lib/python3.13/site-packages/agents/run.py:476\u001b[39m, in \u001b[36mAgentRunner.run\u001b[39m\u001b[34m(self, starting_agent, input, **kwargs)\u001b[39m\n\u001b[32m    470\u001b[39m     current_span = agent_span(\n\u001b[32m    471\u001b[39m         name=current_agent.name,\n\u001b[32m    472\u001b[39m         handoffs=handoff_names,\n\u001b[32m    473\u001b[39m         output_type=output_type_name,\n\u001b[32m    474\u001b[39m     )\n\u001b[32m    475\u001b[39m     current_span.start(mark_as_current=\u001b[38;5;28;01mTrue\u001b[39;00m)\n\u001b[32m--> \u001b[39m\u001b[32m476\u001b[39m     current_span.span_data.tools = [\u001b[43mt\u001b[49m\u001b[43m.\u001b[49m\u001b[43mname\u001b[49m \u001b[38;5;28;01mfor\u001b[39;00m t \u001b[38;5;129;01min\u001b[39;00m all_tools]\n\u001b[32m    478\u001b[39m current_turn += \u001b[32m1\u001b[39m\n\u001b[32m    479\u001b[39m \u001b[38;5;28;01mif\u001b[39;00m current_turn > max_turns:\n",
      "\u001b[31mAttributeError\u001b[39m: 'function' object has no attribute 'name'"
     ]
    }
   ],
   "source": [
    "calorie_agent = Agent(\n",
    "    name=\"Nutrition Assistant\",\n",
    "    instructions=\"\"\"\n",
    "    You are a helpful nutrition assistant giving out calorie information.\n",
    "    You give concise answers.\n",
    "    \"\"\",\n",
    "    tools=[get_food_calories],\n",
    "    model_settings=ModelSettings(tool_choice=\"get_food_calories\"),\n",
    ")\n",
    "\n",
    "with trace(\"Nutrition Assistant with tools enforced\"):\n",
    "    result = await Runner.run(\n",
    "        calorie_agent, \"How many calories are in total in a banana and an apple?\"\n",
    "    )\n",
    "    print(result.final_output)"
   ]
  }
 ],
 "metadata": {
  "kernelspec": {
   "display_name": "Python 3",
   "language": "python",
   "name": "python3"
  },
  "language_info": {
   "codemirror_mode": {
    "name": "ipython",
    "version": 3
   },
   "file_extension": ".py",
   "mimetype": "text/x-python",
   "name": "python",
   "nbconvert_exporter": "python",
   "pygments_lexer": "ipython3",
   "version": "3.13.5"
  }
 },
 "nbformat": 4,
 "nbformat_minor": 5
}
